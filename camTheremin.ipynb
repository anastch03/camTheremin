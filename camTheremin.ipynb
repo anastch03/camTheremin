{
 "cells": [
  {
   "cell_type": "code",
   "execution_count": 1,
   "id": "865843be-0c99-4f7e-b32d-895d12e015e9",
   "metadata": {},
   "outputs": [],
   "source": [
    "import cv2\n",
    "import time\n",
    "import mediapipe as mp\n",
    "from pysinewave import SineWave"
   ]
  },
  {
   "cell_type": "code",
   "execution_count": 2,
   "id": "16984f33-d374-4efe-add2-089491bda851",
   "metadata": {},
   "outputs": [],
   "source": [
    "mp_holistic = mp.solutions.holistic\n",
    "holistic_model = mp_holistic.Holistic(\n",
    "\tmin_detection_confidence=0.5,\n",
    "\tmin_tracking_confidence=0.5\n",
    ")\n",
    "\n",
    "# Initializing the drawing utils for drawing landmarks on image\n",
    "mp_drawing = mp.solutions.drawing_utils\n",
    "mp_drawing_styles = mp.solutions.drawing_styles\n",
    "mp_hands = mp.solutions.hands"
   ]
  },
  {
   "cell_type": "code",
   "execution_count": 3,
   "id": "5e38ae30-76de-4728-a1da-18448419564b",
   "metadata": {},
   "outputs": [
    {
     "name": "stderr",
     "output_type": "stream",
     "text": [
      "INFO: Created TensorFlow Lite XNNPACK delegate for CPU.\n"
     ]
    }
   ],
   "source": [
    "cap = cv2.VideoCapture(0)\n",
    "with holistic_model as holistic:\n",
    "    sinewave = SineWave(pitch = -36, pitch_per_second = 20)\n",
    "    sinewave.play()\n",
    "    sinewave.set_volume(0)\n",
    "    while cap.isOpened():\n",
    "        success, image = cap.read()\n",
    "        if not success:\n",
    "          print(\"Ignoring empty camera frame.\")\n",
    "          continue\n",
    "        \n",
    "        # To improve performance, optionally mark the image as not writeable to\n",
    "        # pass by reference.\n",
    "        image.flags.writeable = False\n",
    "        image = cv2.cvtColor(image, cv2.COLOR_BGR2RGB)\n",
    "        results = holistic.process(image)\n",
    "        \n",
    "        # Draw the hand annotations on the image.\n",
    "        image.flags.writeable = True\n",
    "        image = cv2.cvtColor(image, cv2.COLOR_RGB2BGR)\n",
    "        \n",
    "        # Drawing Right hand Land Marks\n",
    "        mp_drawing.draw_landmarks(\n",
    "          image,\n",
    "          results.right_hand_landmarks,\n",
    "          mp_holistic.HAND_CONNECTIONS\n",
    "        )\n",
    "        \n",
    "        # Drawing Left hand Land Marks\n",
    "        mp_drawing.draw_landmarks(\n",
    "          image,\n",
    "          results.left_hand_landmarks,\n",
    "          mp_holistic.HAND_CONNECTIONS\n",
    "        )\n",
    "\n",
    "        #65.4-2093hz\n",
    "        #2027.6 difference\n",
    "        #frequency = 440 * 2^((pitch-9)/12)\n",
    "        h, w, _ = image.shape #h=720 w=1280\n",
    "        #40px padding -> 40<h<680 (640), 40<w<1240 (1200)\n",
    "        \n",
    "        if results.right_hand_landmarks == None:\n",
    "            sinewave.set_volume(volume=0)\n",
    "        else: \n",
    "            right_pinky = results.right_hand_landmarks.landmark[20]\n",
    "            right_pinky_x = int(right_pinky.x * w) # Convert landmark positions to pixel coordinates\n",
    "            # print(f\"Right Pinky Tip: {right_pinky_x}\")\n",
    "            # freq = max(((1240-right_pinky_x)*1.69)+65.4, 0)\n",
    "            pitch = ((1280-right_pinky_x)*0.047)-36\n",
    "            sinewave.set_pitch(pitch)\n",
    "            # sinewave.set_frequency(freq) #each pixel diff. = 1.69 Hz\n",
    "            # print(f\"pitch= {pitch}\")\n",
    "        if results.left_hand_landmarks == None:\n",
    "            sinewave.set_volume(volume=0)   \n",
    "        else: \n",
    "            left_mid = results.left_hand_landmarks.landmark[12]\n",
    "            left_mid_y = int(left_mid.y * h) # Convert landmark positions to pixel coordinates\n",
    "            vol = max(((640-left_mid_y)/17.22)+30, 0)\n",
    "            # print(f\"Left mid: {left_mid_y}\")\n",
    "            sinewave.set_volume(volume=vol) #range = 30db to 75db / each db = 17.22 px\n",
    "            # print(f\"volume: {vol}\")\n",
    "        # Flip the image horizontally for mirrored display\n",
    "        cv2.imshow('MediaPipe Hands', cv2.flip(image, 1))\n",
    "        if cv2.waitKey(5) & 0xFF == 27:\n",
    "          sinewave.stop()\n",
    "          break\n",
    "\n",
    "# When all the process is done\n",
    "# Release the capture and destroy all windows\n",
    "cap.release()\n",
    "cv2.destroyAllWindows()"
   ]
  },
  {
   "cell_type": "code",
   "execution_count": null,
   "id": "ba556fd3-ed77-428f-a011-43eeb09e461a",
   "metadata": {},
   "outputs": [],
   "source": []
  }
 ],
 "metadata": {
  "kernelspec": {
   "display_name": "Python 3 (ipykernel)",
   "language": "python",
   "name": "python3"
  },
  "language_info": {
   "codemirror_mode": {
    "name": "ipython",
    "version": 3
   },
   "file_extension": ".py",
   "mimetype": "text/x-python",
   "name": "python",
   "nbconvert_exporter": "python",
   "pygments_lexer": "ipython3",
   "version": "3.11.4"
  }
 },
 "nbformat": 4,
 "nbformat_minor": 5
}
